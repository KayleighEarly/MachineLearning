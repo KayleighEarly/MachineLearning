{
 "cells": [
  {
   "cell_type": "code",
   "execution_count": 9,
   "id": "aaccc8e9",
   "metadata": {},
   "outputs": [],
   "source": [
    "# Standard machine learning libraries\n",
    "import pandas as pd                # dataframe library\n",
    "import numpy as np                 # math library\n",
    "import matplotlib.pyplot as plt    # figure plotting\n",
    "%matplotlib inline\n",
    "\n",
    "# Classification Model libraries\n",
    "import pickle\n",
    "import seaborn as sns\n",
    "from sklearn.linear_model import LogisticRegression\n",
    "from sklearn.metrics import classification_report\n",
    "from sklearn.metrics import confusion_matrix\n",
    "from sklearn.metrics import roc_curve\n",
    "from sklearn.metrics import roc_auc_score\n",
    "from sklearn.model_selection import train_test_split\n",
    "from sklearn.model_selection import cross_val_score\n",
    "from sklearn.multiclass import OneVsRestClassifier\n",
    "from collections import Counter\n",
    "import lightgbm as lgb\n",
    "import shap\n",
    "\n",
    "# Ignore warnings\n",
    "import warnings\n",
    "warnings.filterwarnings('ignore')"
   ]
  },
  {
   "cell_type": "markdown",
   "id": "0d57dd73",
   "metadata": {},
   "source": [
    "# Data Import\n",
    "Data has been output from the custom clustering model with labels appended. The raw data was scraped from the [Hiking Project](https://hikingproject.com)."
   ]
  },
  {
   "cell_type": "code",
   "execution_count": 2,
   "id": "24f11d5a",
   "metadata": {},
   "outputs": [],
   "source": [
    "# Import data set into pandas dataframe\n",
    "df = pd.read_csv(\"https://raw.githubusercontent.com/KayleighEarly/MachineLearning/main/notebooks/data/labeled_trail_data.csv\")"
   ]
  },
  {
   "cell_type": "code",
   "execution_count": 3,
   "id": "958e83d4",
   "metadata": {},
   "outputs": [
    {
     "data": {
      "text/html": [
       "<div>\n",
       "<style scoped>\n",
       "    .dataframe tbody tr th:only-of-type {\n",
       "        vertical-align: middle;\n",
       "    }\n",
       "\n",
       "    .dataframe tbody tr th {\n",
       "        vertical-align: top;\n",
       "    }\n",
       "\n",
       "    .dataframe thead th {\n",
       "        text-align: right;\n",
       "    }\n",
       "</style>\n",
       "<table border=\"1\" class=\"dataframe\">\n",
       "  <thead>\n",
       "    <tr style=\"text-align: right;\">\n",
       "      <th></th>\n",
       "      <th>url</th>\n",
       "      <th>difficulty</th>\n",
       "      <th>dist</th>\n",
       "      <th>type</th>\n",
       "      <th>high_elev</th>\n",
       "      <th>low_elev</th>\n",
       "      <th>elev_gain</th>\n",
       "      <th>elev_lost</th>\n",
       "      <th>grade_avg</th>\n",
       "      <th>grade_max</th>\n",
       "      <th>Cluster Labels</th>\n",
       "    </tr>\n",
       "  </thead>\n",
       "  <tbody>\n",
       "    <tr>\n",
       "      <th>0</th>\n",
       "      <td>https://www.hikingproject.com/trail/7000000/mo...</td>\n",
       "      <td>Intermediate/Difficult</td>\n",
       "      <td>3.2</td>\n",
       "      <td>Loop</td>\n",
       "      <td>6780.0</td>\n",
       "      <td>5521.0</td>\n",
       "      <td>1281.0</td>\n",
       "      <td>1280.0</td>\n",
       "      <td>9.0</td>\n",
       "      <td>23.0</td>\n",
       "      <td>9</td>\n",
       "    </tr>\n",
       "    <tr>\n",
       "      <th>1</th>\n",
       "      <td>https://www.hikingproject.com/trail/7000100/lo...</td>\n",
       "      <td>Easy/Intermediate</td>\n",
       "      <td>2.0</td>\n",
       "      <td>Point to Point</td>\n",
       "      <td>5877.0</td>\n",
       "      <td>5504.0</td>\n",
       "      <td>397.0</td>\n",
       "      <td>25.0</td>\n",
       "      <td>2.0</td>\n",
       "      <td>9.0</td>\n",
       "      <td>6</td>\n",
       "    </tr>\n",
       "    <tr>\n",
       "      <th>2</th>\n",
       "      <td>https://www.hikingproject.com/trail/7000500/mi...</td>\n",
       "      <td>Intermediate</td>\n",
       "      <td>3.5</td>\n",
       "      <td>Point to Point</td>\n",
       "      <td>11764.0</td>\n",
       "      <td>11092.0</td>\n",
       "      <td>13.0</td>\n",
       "      <td>685.0</td>\n",
       "      <td>2.0</td>\n",
       "      <td>4.0</td>\n",
       "      <td>6</td>\n",
       "    </tr>\n",
       "    <tr>\n",
       "      <th>3</th>\n",
       "      <td>https://www.hikingproject.com/trail/7000600/bo...</td>\n",
       "      <td>Intermediate</td>\n",
       "      <td>1.2</td>\n",
       "      <td>Point to Point</td>\n",
       "      <td>6815.0</td>\n",
       "      <td>6631.0</td>\n",
       "      <td>217.0</td>\n",
       "      <td>221.0</td>\n",
       "      <td>4.0</td>\n",
       "      <td>10.0</td>\n",
       "      <td>6</td>\n",
       "    </tr>\n",
       "    <tr>\n",
       "      <th>4</th>\n",
       "      <td>https://www.hikingproject.com/trail/7001600/mi...</td>\n",
       "      <td>Intermediate</td>\n",
       "      <td>4.6</td>\n",
       "      <td>Out and Back</td>\n",
       "      <td>5921.0</td>\n",
       "      <td>5482.0</td>\n",
       "      <td>455.0</td>\n",
       "      <td>455.0</td>\n",
       "      <td>2.0</td>\n",
       "      <td>4.0</td>\n",
       "      <td>6</td>\n",
       "    </tr>\n",
       "    <tr>\n",
       "      <th>...</th>\n",
       "      <td>...</td>\n",
       "      <td>...</td>\n",
       "      <td>...</td>\n",
       "      <td>...</td>\n",
       "      <td>...</td>\n",
       "      <td>...</td>\n",
       "      <td>...</td>\n",
       "      <td>...</td>\n",
       "      <td>...</td>\n",
       "      <td>...</td>\n",
       "      <td>...</td>\n",
       "    </tr>\n",
       "    <tr>\n",
       "      <th>58747</th>\n",
       "      <td>https://www.hikingproject.com/trail/7101599/tw...</td>\n",
       "      <td>Intermediate</td>\n",
       "      <td>1.5</td>\n",
       "      <td>Point to Point</td>\n",
       "      <td>1720.0</td>\n",
       "      <td>1404.0</td>\n",
       "      <td>349.0</td>\n",
       "      <td>89.0</td>\n",
       "      <td>3.0</td>\n",
       "      <td>5.0</td>\n",
       "      <td>11</td>\n",
       "    </tr>\n",
       "    <tr>\n",
       "      <th>58748</th>\n",
       "      <td>https://www.hikingproject.com/trail/7101799/sa...</td>\n",
       "      <td>Intermediate/Difficult</td>\n",
       "      <td>0.9</td>\n",
       "      <td>Point to Point</td>\n",
       "      <td>6391.0</td>\n",
       "      <td>5263.0</td>\n",
       "      <td>1131.0</td>\n",
       "      <td>7.0</td>\n",
       "      <td>13.0</td>\n",
       "      <td>21.0</td>\n",
       "      <td>2</td>\n",
       "    </tr>\n",
       "    <tr>\n",
       "      <th>58749</th>\n",
       "      <td>https://www.hikingproject.com/trail/7101899/sk...</td>\n",
       "      <td>Intermediate/Difficult</td>\n",
       "      <td>1.4</td>\n",
       "      <td>Point to Point</td>\n",
       "      <td>5504.0</td>\n",
       "      <td>5007.0</td>\n",
       "      <td>15.0</td>\n",
       "      <td>512.0</td>\n",
       "      <td>4.0</td>\n",
       "      <td>11.0</td>\n",
       "      <td>10</td>\n",
       "    </tr>\n",
       "    <tr>\n",
       "      <th>58750</th>\n",
       "      <td>https://www.hikingproject.com/trail/7101999/be...</td>\n",
       "      <td>Easy</td>\n",
       "      <td>2.2</td>\n",
       "      <td>Out and Back</td>\n",
       "      <td>13.0</td>\n",
       "      <td>10.0</td>\n",
       "      <td>14.0</td>\n",
       "      <td>13.0</td>\n",
       "      <td>0.0</td>\n",
       "      <td>1.0</td>\n",
       "      <td>1</td>\n",
       "    </tr>\n",
       "    <tr>\n",
       "      <th>58751</th>\n",
       "      <td>https://www.hikingproject.com/trail/7102099/po...</td>\n",
       "      <td>Easy/Intermediate</td>\n",
       "      <td>0.8</td>\n",
       "      <td>Point to Point</td>\n",
       "      <td>392.0</td>\n",
       "      <td>320.0</td>\n",
       "      <td>90.0</td>\n",
       "      <td>110.0</td>\n",
       "      <td>3.0</td>\n",
       "      <td>7.0</td>\n",
       "      <td>0</td>\n",
       "    </tr>\n",
       "  </tbody>\n",
       "</table>\n",
       "<p>58752 rows × 11 columns</p>\n",
       "</div>"
      ],
      "text/plain": [
       "                                                     url  \\\n",
       "0      https://www.hikingproject.com/trail/7000000/mo...   \n",
       "1      https://www.hikingproject.com/trail/7000100/lo...   \n",
       "2      https://www.hikingproject.com/trail/7000500/mi...   \n",
       "3      https://www.hikingproject.com/trail/7000600/bo...   \n",
       "4      https://www.hikingproject.com/trail/7001600/mi...   \n",
       "...                                                  ...   \n",
       "58747  https://www.hikingproject.com/trail/7101599/tw...   \n",
       "58748  https://www.hikingproject.com/trail/7101799/sa...   \n",
       "58749  https://www.hikingproject.com/trail/7101899/sk...   \n",
       "58750  https://www.hikingproject.com/trail/7101999/be...   \n",
       "58751  https://www.hikingproject.com/trail/7102099/po...   \n",
       "\n",
       "                   difficulty  dist            type  high_elev  low_elev  \\\n",
       "0      Intermediate/Difficult   3.2            Loop     6780.0    5521.0   \n",
       "1           Easy/Intermediate   2.0  Point to Point     5877.0    5504.0   \n",
       "2                Intermediate   3.5  Point to Point    11764.0   11092.0   \n",
       "3                Intermediate   1.2  Point to Point     6815.0    6631.0   \n",
       "4                Intermediate   4.6    Out and Back     5921.0    5482.0   \n",
       "...                       ...   ...             ...        ...       ...   \n",
       "58747            Intermediate   1.5  Point to Point     1720.0    1404.0   \n",
       "58748  Intermediate/Difficult   0.9  Point to Point     6391.0    5263.0   \n",
       "58749  Intermediate/Difficult   1.4  Point to Point     5504.0    5007.0   \n",
       "58750                    Easy   2.2    Out and Back       13.0      10.0   \n",
       "58751       Easy/Intermediate   0.8  Point to Point      392.0     320.0   \n",
       "\n",
       "       elev_gain  elev_lost  grade_avg  grade_max  Cluster Labels  \n",
       "0         1281.0     1280.0        9.0       23.0               9  \n",
       "1          397.0       25.0        2.0        9.0               6  \n",
       "2           13.0      685.0        2.0        4.0               6  \n",
       "3          217.0      221.0        4.0       10.0               6  \n",
       "4          455.0      455.0        2.0        4.0               6  \n",
       "...          ...        ...        ...        ...             ...  \n",
       "58747      349.0       89.0        3.0        5.0              11  \n",
       "58748     1131.0        7.0       13.0       21.0               2  \n",
       "58749       15.0      512.0        4.0       11.0              10  \n",
       "58750       14.0       13.0        0.0        1.0               1  \n",
       "58751       90.0      110.0        3.0        7.0               0  \n",
       "\n",
       "[58752 rows x 11 columns]"
      ]
     },
     "execution_count": 3,
     "metadata": {},
     "output_type": "execute_result"
    }
   ],
   "source": [
    "#Display basic data\n",
    "df"
   ]
  },
  {
   "cell_type": "markdown",
   "id": "60d0a921",
   "metadata": {},
   "source": [
    "# Data Features and Preprocessing\n",
    "The data features represented within the data are as follows:\n",
    "\n",
    "| Feature | Description |\n",
    "| :------ | :---------: |\n",
    "| url | the FQDN the data was scraped from |\n",
    "| difficulty | the avg reported difficult of the trails |\n",
    "| dist | the length of the trail (miles) |\n",
    "| type | the type of trail (loop, point to point, out and back, lollipop) |\n",
    "| high_elev | the highest elevation reached in the trail (ft) |\n",
    "| low_elev | the lowest elevation reached in the trail (ft) |\n",
    "| elev_gain | the total elevation gained across the trail (ft) |\n",
    "| elev_lost | the total elevation lost across the trail (ft) |\n",
    "| grade_avg | the average grade of the trail (degrees) |\n",
    "| grade_max | the maximum grade of the trail (degrees) |\n",
    "| Cluster Labels | the cluster group the trail belongs to (from 0 to 11) |\n",
    "\n",
    "Because the data has been previously cleaned, there is minimal preprocessing that needs to be done. First we separate the feature columns from the target column. Then we set the datatype of the two categorical columns (type and difficulty) to category so they are properly handled in training/testing. Last we split the data into training and testing sets with 80% going to training and 20% to testing."
   ]
  },
  {
   "cell_type": "code",
   "execution_count": 4,
   "id": "4d1e8448",
   "metadata": {},
   "outputs": [
    {
     "name": "stdout",
     "output_type": "stream",
     "text": [
      "(47001, 9) (11751, 9) (47001,) (11751,)\n",
      "Counter({0: 5758, 11: 5722, 1: 4891, 7: 4623, 6: 4580, 4: 3852, 9: 3442, 8: 3367, 3: 3214, 2: 2970, 5: 2518, 10: 2064})\n",
      "Counter({0: 1440, 11: 1431, 1: 1223, 7: 1156, 6: 1145, 4: 963, 9: 860, 8: 842, 3: 803, 2: 743, 5: 629, 10: 516})\n"
     ]
    }
   ],
   "source": [
    "# Identify features columns and target column\n",
    "X = df.drop(['Cluster Labels','url'], axis=1)\n",
    "y = df['Cluster Labels']\n",
    "\n",
    "# Setting the objects to category \n",
    "for c in X.select_dtypes(include='object'):\n",
    "    X[c] = X[c].astype('category')\n",
    "    \n",
    "# Split the data, keeping 80% for training and 20% for testing\n",
    "X_train, X_test, y_train, y_test = train_test_split(X, y, test_size=0.20, stratify=y)\n",
    "\n",
    "print(X_train.shape, X_test.shape, y_train.shape, y_test.shape)\n",
    "print(Counter(y_train))\n",
    "print(Counter(y_test))"
   ]
  },
  {
   "cell_type": "markdown",
   "id": "97b4edf2",
   "metadata": {},
   "source": [
    "# Classification Modeling\n",
    "## Fitting the Model\n",
    "We use our training data to then define and fit the model."
   ]
  },
  {
   "cell_type": "code",
   "execution_count": 5,
   "id": "8f628450",
   "metadata": {},
   "outputs": [
    {
     "data": {
      "text/plain": [
       "LGBMClassifier()"
      ]
     },
     "execution_count": 5,
     "metadata": {},
     "output_type": "execute_result"
    }
   ],
   "source": [
    "clf = lgb.LGBMClassifier()\n",
    "clf.fit(X_train, y_train)"
   ]
  },
  {
   "cell_type": "markdown",
   "id": "4003b1f5",
   "metadata": {},
   "source": [
    "## Testing the Model"
   ]
  },
  {
   "cell_type": "code",
   "execution_count": 6,
   "id": "0270438f",
   "metadata": {},
   "outputs": [],
   "source": [
    "# predict the results\n",
    "y_pred=clf.predict(X_test)"
   ]
  },
  {
   "cell_type": "markdown",
   "id": "16c21cfa",
   "metadata": {},
   "source": [
    "## Evaluating the Model\n",
    "### Evaluation via Score Method"
   ]
  },
  {
   "cell_type": "code",
   "execution_count": 7,
   "id": "81b0a086",
   "metadata": {},
   "outputs": [
    {
     "name": "stdout",
     "output_type": "stream",
     "text": [
      "Training Set Accuracy: 100.00%\n",
      "Test Set Accuracy: 96.37%\n"
     ]
    }
   ],
   "source": [
    "# print the default accuracy scores on training and test set\n",
    "print('Training Set Accuracy: {:.2f}%'.format(clf.score(X_train, y_train) * 100))\n",
    "print('Test Set Accuracy: {:.2f}%'.format(clf.score(X_test, y_test) * 100))"
   ]
  },
  {
   "cell_type": "markdown",
   "id": "6080cbb0",
   "metadata": {},
   "source": [
    "### Evaluation via Scoring Parameter"
   ]
  },
  {
   "cell_type": "code",
   "execution_count": 10,
   "id": "28e45ea2",
   "metadata": {},
   "outputs": [
    {
     "name": "stdout",
     "output_type": "stream",
     "text": [
      "Cross-Validated Accuracy: 96.77%\n"
     ]
    }
   ],
   "source": [
    "# print the cross validation accuracy score\n",
    "print('Cross-Validated Accuracy: {:.2f}%'.format(np.mean(cross_val_score(clf, X, y)) * 100))"
   ]
  },
  {
   "cell_type": "markdown",
   "id": "c065bbea",
   "metadata": {},
   "source": [
    "### Area under the reciever operating characteristic curve (AUC/ROC)\n",
    "While ROC AUC scores are typically used in binary classification problems, they can be used for multi-class sitations as well."
   ]
  },
  {
   "cell_type": "code",
   "execution_count": 11,
   "id": "a5ba56a7",
   "metadata": {},
   "outputs": [
    {
     "name": "stdout",
     "output_type": "stream",
     "text": [
      "One-vs-One ROC AUC scores:\n",
      "0.999645 (macro),\n",
      "0.999641 (weighted by prevalence)\n",
      "One-vs-Rest ROC AUC scores:\n",
      "0.999656 (macro),\n",
      "0.999636 (weighted by prevalence)\n"
     ]
    }
   ],
   "source": [
    "# fit model\n",
    "y_prob = clf.predict_proba(X_test)\n",
    "\n",
    "macro_roc_auc_ovo = roc_auc_score(y_test, y_prob, multi_class=\"ovo\",\n",
    "                                  average=\"macro\")\n",
    "weighted_roc_auc_ovo = roc_auc_score(y_test, y_prob, multi_class=\"ovo\",\n",
    "                                     average=\"weighted\")\n",
    "macro_roc_auc_ovr = roc_auc_score(y_test, y_prob, multi_class=\"ovr\",\n",
    "                                  average=\"macro\")\n",
    "weighted_roc_auc_ovr = roc_auc_score(y_test, y_prob, multi_class=\"ovr\",\n",
    "                                     average=\"weighted\")\n",
    "print(\"One-vs-One ROC AUC scores:\\n{:.6f} (macro),\\n{:.6f} \"\n",
    "      \"(weighted by prevalence)\"\n",
    "      .format(macro_roc_auc_ovo, weighted_roc_auc_ovo))\n",
    "print(\"One-vs-Rest ROC AUC scores:\\n{:.6f} (macro),\\n{:.6f} \"\n",
    "      \"(weighted by prevalence)\"\n",
    "      .format(macro_roc_auc_ovr, weighted_roc_auc_ovr))"
   ]
  },
  {
   "cell_type": "markdown",
   "id": "fc99c07d",
   "metadata": {},
   "source": [
    "### Confusion Matrix"
   ]
  },
  {
   "cell_type": "code",
   "execution_count": 12,
   "id": "0ab1c5b2",
   "metadata": {},
   "outputs": [
    {
     "data": {
      "text/plain": [
       "Text(0.5, 1.0, 'Confusion Matrix')"
      ]
     },
     "execution_count": 12,
     "metadata": {},
     "output_type": "execute_result"
    },
    {
     "data": {
      "image/png": "[encoded data removed]",
      "text/plain": [
       "<Figure size 1152x1008 with 2 Axes>"
      ]
     },
     "metadata": {
      "needs_background": "light"
     },
     "output_type": "display_data"
    }
   ],
   "source": [
    "### Confusion Matrix\n",
    "cm = confusion_matrix(y_test, y_pred)\n",
    "\n",
    "# Plot confusion matrix in a beautiful manner\n",
    "fig = plt.figure(figsize=(16, 14))\n",
    "ax = plt.subplot()\n",
    "sns.heatmap(cm, annot=True, ax = ax, fmt = 'g')\n",
    "\n",
    "# labels, title and ticks\n",
    "ax.set_xlabel('Predicted', fontsize=20)\n",
    "ax.xaxis.set_label_position('bottom')\n",
    "ax.xaxis.tick_bottom()\n",
    "ax.set_ylabel('True', fontsize=20)\n",
    "plt.yticks(rotation=0)\n",
    "\n",
    "plt.title('Confusion Matrix', fontsize=20)"
   ]
  },
  {
   "cell_type": "markdown",
   "id": "dc143252",
   "metadata": {},
   "source": [
    "### Classification Report"
   ]
  },
  {
   "cell_type": "code",
   "execution_count": 13,
   "id": "4845a244",
   "metadata": {},
   "outputs": [
    {
     "name": "stdout",
     "output_type": "stream",
     "text": [
      "              precision    recall  f1-score   support\n",
      "\n",
      "           0       0.97      0.96      0.97      1440\n",
      "           1       0.98      0.97      0.98      1223\n",
      "           2       0.96      0.96      0.96       743\n",
      "           3       0.96      0.96      0.96       803\n",
      "           4       0.96      0.97      0.97       963\n",
      "           5       0.96      0.96      0.96       629\n",
      "           6       0.95      0.95      0.95      1145\n",
      "           7       0.97      0.97      0.97      1156\n",
      "           8       0.95      0.96      0.96       842\n",
      "           9       0.97      0.97      0.97       860\n",
      "          10       0.95      0.93      0.94       516\n",
      "          11       0.96      0.97      0.96      1431\n",
      "\n",
      "    accuracy                           0.96     11751\n",
      "   macro avg       0.96      0.96      0.96     11751\n",
      "weighted avg       0.96      0.96      0.96     11751\n",
      "\n"
     ]
    }
   ],
   "source": [
    "print(classification_report(y_test, y_pred))"
   ]
  },
  {
   "cell_type": "markdown",
   "id": "1793e675",
   "metadata": {},
   "source": [
    "### Feature Impact on Model\n",
    "As shown in the bar graph below, of the 9 features, 8 had an impact on the classification prediction, with 7 of them having a high impact. This means that the clusters are both distinguishable and informed by the majority of input."
   ]
  },
  {
   "cell_type": "code",
   "execution_count": 14,
   "id": "8c98ba3a",
   "metadata": {},
   "outputs": [
    {
     "data": {
      "image/png": "[encoded data removed]",
      "text/plain": [
       "<Figure size 576x367.2 with 1 Axes>"
      ]
     },
     "metadata": {
      "needs_background": "light"
     },
     "output_type": "display_data"
    }
   ],
   "source": [
    "explainer = shap.TreeExplainer(clf)\n",
    "shap_values = explainer.shap_values(X)\n",
    "\n",
    "shap.summary_plot(shap_values, X)"
   ]
  },
  {
   "cell_type": "markdown",
   "id": "f8a9610e",
   "metadata": {},
   "source": [
    "## Saving Trained Model for Later Use"
   ]
  },
  {
   "cell_type": "code",
   "execution_count": 15,
   "id": "6916bcc5",
   "metadata": {},
   "outputs": [],
   "source": [
    "pickle.dump(clf, open(\"models\\gbm_model_1.pkl\", \"wb\"))"
   ]
  }
 ],
 "metadata": {
  "kernelspec": {
   "display_name": "Python 3",
   "language": "python",
   "name": "python3"
  },
  "language_info": {
   "codemirror_mode": {
    "name": "ipython",
    "version": 3
   },
   "file_extension": ".py",
   "mimetype": "text/x-python",
   "name": "python",
   "nbconvert_exporter": "python",
   "pygments_lexer": "ipython3",
   "version": "3.8.8"
  }
 },
 "nbformat": 4,
 "nbformat_minor": 5
}
