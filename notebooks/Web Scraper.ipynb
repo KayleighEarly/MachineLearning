{
 "cells": [
  {
   "cell_type": "code",
   "execution_count": 1,
   "id": "06d797ea",
   "metadata": {},
   "outputs": [],
   "source": [
    "import pandas as pd       # dataframe library\n",
    "\n",
    "# Standard website libraries\n",
    "import advertools as a    # parse sitemaps\n",
    "import bs4                # html parsing\n",
    "import requests           # python http requests\n",
    "\n",
    "# Ignore warnings\n",
    "import warnings\n",
    "warnings.filterwarnings('ignore')"
   ]
  },
  {
   "cell_type": "markdown",
   "id": "0e8b9dcc",
   "metadata": {},
   "source": [
    "# Generate List of URLs to scrape\n",
    "The website's sitemap provides a list of all URLs. Each URL is checked to see if it includes \"/trail/\" in the FQDN, and if so, it is added to the url list to be scraped later."
   ]
  },
  {
   "cell_type": "code",
   "execution_count": 2,
   "id": "e0262107",
   "metadata": {},
   "outputs": [],
   "source": [
    "# Create a basic list and dataframe for holding the scraped web data\n",
    "urls = list()\n",
    "df = pd.DataFrame(columns=['url', 'Name', 'Difficulty', 'Distance', 'Type', 'High Elev', 'Low Elev', 'Elev Gained', \n",
    "                           'Elev Lost', 'Avg Grade', 'Max Grade'])"
   ]
  },
  {
   "cell_type": "code",
   "execution_count": 27,
   "id": "407f6232",
   "metadata": {},
   "outputs": [
    {
     "name": "stderr",
     "output_type": "stream",
     "text": [
      "2021-07-25 03:03:46,320 | INFO | sitemaps.py:419 | sitemap_to_df | Getting https://www.hikingproject.com/sitemap0.xml.gz\n",
      "2021-07-25 03:03:46,471 | INFO | sitemaps.py:419 | sitemap_to_df | Getting https://www.hikingproject.com/sitemap1.xml.gz\n",
      "2021-07-25 03:03:46,619 | INFO | sitemaps.py:419 | sitemap_to_df | Getting https://www.hikingproject.com/sitemap2.xml.gz\n",
      "2021-07-25 03:03:46,804 | INFO | sitemaps.py:419 | sitemap_to_df | Getting https://www.hikingproject.com/sitemap3.xml.gz\n",
      "2021-07-25 03:03:46,960 | INFO | sitemaps.py:419 | sitemap_to_df | Getting https://www.hikingproject.com/sitemap4.xml.gz\n",
      "2021-07-25 03:03:47,116 | INFO | sitemaps.py:419 | sitemap_to_df | Getting https://www.hikingproject.com/sitemap5.xml.gz\n",
      "2021-07-25 03:03:47,295 | INFO | sitemaps.py:419 | sitemap_to_df | Getting https://www.hikingproject.com/sitemap6.xml.gz\n",
      "2021-07-25 03:03:47,443 | INFO | sitemaps.py:419 | sitemap_to_df | Getting https://www.hikingproject.com/sitemap7.xml.gz\n",
      "2021-07-25 03:03:47,592 | INFO | sitemaps.py:419 | sitemap_to_df | Getting https://www.hikingproject.com/sitemap8.xml.gz\n",
      "2021-07-25 03:03:47,748 | INFO | sitemaps.py:419 | sitemap_to_df | Getting https://www.hikingproject.com/sitemap9.xml.gz\n",
      "2021-07-25 03:03:47,940 | INFO | sitemaps.py:419 | sitemap_to_df | Getting https://www.hikingproject.com/sitemap10.xml.gz\n",
      "2021-07-25 03:03:48,095 | INFO | sitemaps.py:419 | sitemap_to_df | Getting https://www.hikingproject.com/sitemap11.xml.gz\n",
      "2021-07-25 03:03:48,246 | INFO | sitemaps.py:419 | sitemap_to_df | Getting https://www.hikingproject.com/sitemap12.xml.gz\n",
      "2021-07-25 03:03:48,430 | INFO | sitemaps.py:419 | sitemap_to_df | Getting https://www.hikingproject.com/sitemap13.xml.gz\n",
      "2021-07-25 03:03:48,582 | INFO | sitemaps.py:419 | sitemap_to_df | Getting https://www.hikingproject.com/sitemap14.xml.gz\n",
      "2021-07-25 03:03:48,733 | INFO | sitemaps.py:419 | sitemap_to_df | Getting https://www.hikingproject.com/sitemap15.xml.gz\n",
      "2021-07-25 03:03:48,883 | INFO | sitemaps.py:419 | sitemap_to_df | Getting https://www.hikingproject.com/sitemap16.xml.gz\n",
      "2021-07-25 03:03:49,063 | INFO | sitemaps.py:419 | sitemap_to_df | Getting https://www.hikingproject.com/sitemap17.xml.gz\n",
      "2021-07-25 03:03:49,215 | INFO | sitemaps.py:419 | sitemap_to_df | Getting https://www.hikingproject.com/sitemap18.xml.gz\n",
      "2021-07-25 03:03:49,368 | INFO | sitemaps.py:419 | sitemap_to_df | Getting https://www.hikingproject.com/sitemap19.xml.gz\n",
      "2021-07-25 03:03:49,546 | INFO | sitemaps.py:419 | sitemap_to_df | Getting https://www.hikingproject.com/sitemap20.xml.gz\n",
      "2021-07-25 03:03:49,696 | INFO | sitemaps.py:419 | sitemap_to_df | Getting https://www.hikingproject.com/sitemap21.xml.gz\n",
      "2021-07-25 03:03:49,850 | INFO | sitemaps.py:419 | sitemap_to_df | Getting https://www.hikingproject.com/sitemap22.xml.gz\n",
      "2021-07-25 03:03:50,028 | INFO | sitemaps.py:419 | sitemap_to_df | Getting https://www.hikingproject.com/sitemap23.xml.gz\n",
      "2021-07-25 03:03:50,180 | INFO | sitemaps.py:419 | sitemap_to_df | Getting https://www.hikingproject.com/sitemap24.xml.gz\n",
      "2021-07-25 03:03:50,331 | INFO | sitemaps.py:419 | sitemap_to_df | Getting https://www.hikingproject.com/sitemap25.xml.gz\n",
      "2021-07-25 03:03:50,482 | INFO | sitemaps.py:419 | sitemap_to_df | Getting https://www.hikingproject.com/sitemap26.xml.gz\n",
      "2021-07-25 03:03:50,660 | INFO | sitemaps.py:419 | sitemap_to_df | Getting https://www.hikingproject.com/sitemap27.xml.gz\n",
      "2021-07-25 03:03:50,813 | INFO | sitemaps.py:419 | sitemap_to_df | Getting https://www.hikingproject.com/sitemap28.xml.gz\n",
      "2021-07-25 03:03:50,961 | INFO | sitemaps.py:419 | sitemap_to_df | Getting https://www.hikingproject.com/sitemap29.xml.gz\n",
      "2021-07-25 03:03:51,138 | INFO | sitemaps.py:419 | sitemap_to_df | Getting https://www.hikingproject.com/sitemap30.xml.gz\n",
      "2021-07-25 03:03:51,328 | INFO | sitemaps.py:419 | sitemap_to_df | Getting https://www.hikingproject.com/sitemap31.xml.gz\n",
      "2021-07-25 03:03:51,478 | INFO | sitemaps.py:419 | sitemap_to_df | Getting https://www.hikingproject.com/sitemap32.xml.gz\n",
      "2021-07-25 03:03:51,654 | INFO | sitemaps.py:419 | sitemap_to_df | Getting https://www.hikingproject.com/sitemap33.xml.gz\n",
      "2021-07-25 03:03:51,809 | INFO | sitemaps.py:419 | sitemap_to_df | Getting https://www.hikingproject.com/sitemap34.xml.gz\n",
      "2021-07-25 03:03:51,959 | INFO | sitemaps.py:419 | sitemap_to_df | Getting https://www.hikingproject.com/sitemap35.xml.gz\n",
      "2021-07-25 03:03:52,114 | INFO | sitemaps.py:419 | sitemap_to_df | Getting https://www.hikingproject.com/sitemap36.xml.gz\n",
      "2021-07-25 03:03:52,291 | INFO | sitemaps.py:419 | sitemap_to_df | Getting https://www.hikingproject.com/sitemap37.xml.gz\n",
      "2021-07-25 03:03:52,444 | INFO | sitemaps.py:419 | sitemap_to_df | Getting https://www.hikingproject.com/sitemap38.xml.gz\n",
      "2021-07-25 03:03:52,598 | INFO | sitemaps.py:419 | sitemap_to_df | Getting https://www.hikingproject.com/sitemap39.xml.gz\n",
      "2021-07-25 03:03:52,777 | INFO | sitemaps.py:419 | sitemap_to_df | Getting https://www.hikingproject.com/sitemap40.xml.gz\n",
      "2021-07-25 03:03:52,933 | INFO | sitemaps.py:419 | sitemap_to_df | Getting https://www.hikingproject.com/sitemap41.xml.gz\n",
      "2021-07-25 03:03:53,084 | INFO | sitemaps.py:419 | sitemap_to_df | Getting https://www.hikingproject.com/sitemap42.xml.gz\n",
      "2021-07-25 03:03:53,239 | INFO | sitemaps.py:419 | sitemap_to_df | Getting https://www.hikingproject.com/sitemap43.xml.gz\n",
      "2021-07-25 03:03:53,425 | INFO | sitemaps.py:419 | sitemap_to_df | Getting https://www.hikingproject.com/sitemap44.xml.gz\n",
      "2021-07-25 03:03:53,579 | INFO | sitemaps.py:419 | sitemap_to_df | Getting https://www.hikingproject.com/sitemap45.xml.gz\n",
      "2021-07-25 03:03:53,729 | INFO | sitemaps.py:419 | sitemap_to_df | Getting https://www.hikingproject.com/sitemap46.xml.gz\n",
      "2021-07-25 03:03:53,908 | INFO | sitemaps.py:419 | sitemap_to_df | Getting https://www.hikingproject.com/sitemap47.xml.gz\n",
      "2021-07-25 03:03:54,061 | INFO | sitemaps.py:419 | sitemap_to_df | Getting https://www.hikingproject.com/sitemap48.xml.gz\n",
      "2021-07-25 03:03:54,221 | INFO | sitemaps.py:419 | sitemap_to_df | Getting https://www.hikingproject.com/sitemap49.xml.gz\n",
      "2021-07-25 03:03:54,413 | INFO | sitemaps.py:419 | sitemap_to_df | Getting https://www.hikingproject.com/sitemap50.xml.gz\n",
      "2021-07-25 03:03:54,566 | INFO | sitemaps.py:419 | sitemap_to_df | Getting https://www.hikingproject.com/sitemap51.xml.gz\n",
      "2021-07-25 03:03:54,719 | INFO | sitemaps.py:419 | sitemap_to_df | Getting https://www.hikingproject.com/sitemap52.xml.gz\n",
      "2021-07-25 03:03:54,871 | INFO | sitemaps.py:419 | sitemap_to_df | Getting https://www.hikingproject.com/sitemap53.xml.gz\n",
      "2021-07-25 03:03:55,053 | INFO | sitemaps.py:419 | sitemap_to_df | Getting https://www.hikingproject.com/sitemap54.xml.gz\n",
      "2021-07-25 03:03:55,211 | INFO | sitemaps.py:419 | sitemap_to_df | Getting https://www.hikingproject.com/sitemap55.xml.gz\n",
      "2021-07-25 03:03:55,362 | INFO | sitemaps.py:419 | sitemap_to_df | Getting https://www.hikingproject.com/sitemap56.xml.gz\n",
      "2021-07-25 03:03:55,545 | INFO | sitemaps.py:419 | sitemap_to_df | Getting https://www.hikingproject.com/sitemap57.xml.gz\n",
      "2021-07-25 03:03:55,692 | INFO | sitemaps.py:419 | sitemap_to_df | Getting https://www.hikingproject.com/sitemap58.xml.gz\n",
      "2021-07-25 03:03:55,853 | INFO | sitemaps.py:419 | sitemap_to_df | Getting https://www.hikingproject.com/sitemap59.xml.gz\n",
      "2021-07-25 03:03:56,004 | INFO | sitemaps.py:419 | sitemap_to_df | Getting https://www.hikingproject.com/sitemap60.xml.gz\n",
      "2021-07-25 03:03:56,195 | INFO | sitemaps.py:419 | sitemap_to_df | Getting https://www.hikingproject.com/sitemap61.xml.gz\n",
      "2021-07-25 03:03:56,378 | INFO | sitemaps.py:419 | sitemap_to_df | Getting https://www.hikingproject.com/sitemap62.xml.gz\n",
      "2021-07-25 03:03:56,530 | INFO | sitemaps.py:419 | sitemap_to_df | Getting https://www.hikingproject.com/sitemap63.xml.gz\n",
      "2021-07-25 03:03:56,712 | INFO | sitemaps.py:419 | sitemap_to_df | Getting https://www.hikingproject.com/sitemap64.xml.gz\n",
      "2021-07-25 03:03:56,867 | INFO | sitemaps.py:419 | sitemap_to_df | Getting https://www.hikingproject.com/sitemap65.xml.gz\n",
      "2021-07-25 03:03:57,023 | INFO | sitemaps.py:419 | sitemap_to_df | Getting https://www.hikingproject.com/sitemap66.xml.gz\n",
      "2021-07-25 03:03:57,211 | INFO | sitemaps.py:419 | sitemap_to_df | Getting https://www.hikingproject.com/sitemap67.xml.gz\n"
     ]
    },
    {
     "name": "stderr",
     "output_type": "stream",
     "text": [
      "2021-07-25 03:03:57,369 | INFO | sitemaps.py:419 | sitemap_to_df | Getting https://www.hikingproject.com/sitemap68.xml.gz\n",
      "2021-07-25 03:03:57,520 | INFO | sitemaps.py:419 | sitemap_to_df | Getting https://www.hikingproject.com/sitemap69.xml.gz\n",
      "2021-07-25 03:03:57,670 | INFO | sitemaps.py:419 | sitemap_to_df | Getting https://www.hikingproject.com/sitemap70.xml.gz\n",
      "2021-07-25 03:03:57,852 | INFO | sitemaps.py:419 | sitemap_to_df | Getting https://www.hikingproject.com/sitemap71.xml.gz\n",
      "2021-07-25 03:03:58,001 | INFO | sitemaps.py:419 | sitemap_to_df | Getting https://www.hikingproject.com/sitemap72.xml.gz\n",
      "2021-07-25 03:03:58,155 | INFO | sitemaps.py:419 | sitemap_to_df | Getting https://www.hikingproject.com/sitemap73.xml.gz\n",
      "2021-07-25 03:03:58,333 | INFO | sitemaps.py:419 | sitemap_to_df | Getting https://www.hikingproject.com/sitemap74.xml.gz\n",
      "2021-07-25 03:03:58,485 | INFO | sitemaps.py:419 | sitemap_to_df | Getting https://www.hikingproject.com/sitemap75.xml.gz\n",
      "2021-07-25 03:03:58,635 | INFO | sitemaps.py:419 | sitemap_to_df | Getting https://www.hikingproject.com/sitemap76.xml.gz\n",
      "2021-07-25 03:03:58,817 | INFO | sitemaps.py:419 | sitemap_to_df | Getting https://www.hikingproject.com/sitemap77.xml.gz\n",
      "2021-07-25 03:03:58,970 | INFO | sitemaps.py:419 | sitemap_to_df | Getting https://www.hikingproject.com/sitemap78.xml.gz\n",
      "2021-07-25 03:03:59,120 | INFO | sitemaps.py:419 | sitemap_to_df | Getting https://www.hikingproject.com/sitemap79.xml.gz\n",
      "2021-07-25 03:03:59,272 | INFO | sitemaps.py:419 | sitemap_to_df | Getting https://www.hikingproject.com/sitemap80.xml.gz\n",
      "2021-07-25 03:03:59,456 | INFO | sitemaps.py:419 | sitemap_to_df | Getting https://www.hikingproject.com/sitemap81.xml.gz\n",
      "2021-07-25 03:03:59,605 | INFO | sitemaps.py:419 | sitemap_to_df | Getting https://www.hikingproject.com/sitemap82.xml.gz\n",
      "2021-07-25 03:03:59,766 | INFO | sitemaps.py:419 | sitemap_to_df | Getting https://www.hikingproject.com/sitemap83.xml.gz\n",
      "2021-07-25 03:03:59,947 | INFO | sitemaps.py:419 | sitemap_to_df | Getting https://www.hikingproject.com/sitemap84.xml.gz\n",
      "2021-07-25 03:04:00,103 | INFO | sitemaps.py:419 | sitemap_to_df | Getting https://www.hikingproject.com/sitemap85.xml.gz\n",
      "2021-07-25 03:04:00,258 | INFO | sitemaps.py:419 | sitemap_to_df | Getting https://www.hikingproject.com/sitemap86.xml.gz\n",
      "2021-07-25 03:04:00,443 | INFO | sitemaps.py:419 | sitemap_to_df | Getting https://www.hikingproject.com/sitemap87.xml.gz\n",
      "2021-07-25 03:04:00,595 | INFO | sitemaps.py:419 | sitemap_to_df | Getting https://www.hikingproject.com/sitemap88.xml.gz\n",
      "2021-07-25 03:04:00,748 | INFO | sitemaps.py:419 | sitemap_to_df | Getting https://www.hikingproject.com/sitemap89.xml.gz\n",
      "2021-07-25 03:04:00,899 | INFO | sitemaps.py:419 | sitemap_to_df | Getting https://www.hikingproject.com/sitemap90.xml.gz\n",
      "2021-07-25 03:04:01,081 | INFO | sitemaps.py:419 | sitemap_to_df | Getting https://www.hikingproject.com/sitemap91.xml.gz\n",
      "2021-07-25 03:04:01,246 | INFO | sitemaps.py:419 | sitemap_to_df | Getting https://www.hikingproject.com/sitemap92.xml.gz\n",
      "2021-07-25 03:04:01,397 | INFO | sitemaps.py:419 | sitemap_to_df | Getting https://www.hikingproject.com/sitemap93.xml.gz\n",
      "2021-07-25 03:04:01,575 | INFO | sitemaps.py:419 | sitemap_to_df | Getting https://www.hikingproject.com/sitemap94.xml.gz\n",
      "2021-07-25 03:04:01,727 | INFO | sitemaps.py:419 | sitemap_to_df | Getting https://www.hikingproject.com/sitemap95.xml.gz\n",
      "2021-07-25 03:04:01,875 | INFO | sitemaps.py:419 | sitemap_to_df | Getting https://www.hikingproject.com/sitemap96.xml.gz\n",
      "2021-07-25 03:04:02,026 | INFO | sitemaps.py:419 | sitemap_to_df | Getting https://www.hikingproject.com/sitemap97.xml.gz\n",
      "2021-07-25 03:04:02,221 | INFO | sitemaps.py:419 | sitemap_to_df | Getting https://www.hikingproject.com/sitemap98.xml.gz\n",
      "2021-07-25 03:04:02,375 | INFO | sitemaps.py:419 | sitemap_to_df | Getting https://www.hikingproject.com/sitemap99.xml.gz\n"
     ]
    }
   ],
   "source": [
    "temp_df = pd.DataFrame()\n",
    "\n",
    "# Iterate through each zipped sitemap\n",
    "for i in range(0, 100):\n",
    "    site_url = 'https://www.hikingproject.com/sitemap' + str(i) + '.xml.gz'\n",
    "    temp_df = a.sitemap_to_df(site_url)\n",
    "    temp_df = temp_df[temp_df[\"loc\"].str.contains('\\/trail\\/')][\"loc\"]\n",
    "\n",
    "    # only add the url to the list, not the index number from the dataframe\n",
    "    for label, content in temp_df.items():\n",
    "        urls.append(content)"
   ]
  },
  {
   "cell_type": "code",
   "execution_count": 3,
   "id": "9768b17b",
   "metadata": {},
   "outputs": [
    {
     "data": {
      "text/plain": [
       "([], 0)"
      ]
     },
     "execution_count": 3,
     "metadata": {},
     "output_type": "execute_result"
    }
   ],
   "source": [
    "# Display urls to verify\n",
    "urls, len(urls)"
   ]
  },
  {
   "cell_type": "markdown",
   "id": "5af31dba",
   "metadata": {},
   "source": [
    "# Scrape each URL for trail stats\n",
    "Iterate through the URL list, scraping the trail stats and storing them in a dictionary, before appending them to the trail stats dataframe."
   ]
  },
  {
   "cell_type": "code",
   "execution_count": 30,
   "id": "988ab822",
   "metadata": {},
   "outputs": [],
   "source": [
    "for url in urls:\n",
    "    page = requests.get(site_url)\n",
    "    soup = bs4.BeautifulSoup(page.content, 'html.parser')\n",
    "\n",
    "    # checks to make sure page exists\n",
    "    if page.status_code == 200:\n",
    "        trail_name = soup.find(id='trail-title').text.strip()\n",
    "        difficulty = soup.find(class_='difficulty-text').text.strip()\n",
    "\n",
    "        stats = soup.find(id='trail-stats-bar')\n",
    "        stat_block = stats.find('div', class_='stat-block ml-2 mr-1 mt-1').text.strip().split('\\n\\n\\n')\n",
    "        dist = stat_block[0]\n",
    "        trail_type = stat_block[2]\n",
    "        stat_block2 = stats.find('div', class_='stat-block mx-1 mt-1').text.strip().split('\\n\\n')\n",
    "        elev_high = (stat_block2[0]+stat_block2[2]).strip()\n",
    "        elev_low = (stat_block2[3]+stat_block2[5]).strip()\n",
    "        stat_block3 = stats.find('div', class_='stat-block mx-1 mt-1').nextSibling.nextSibling.text.strip().split('\\n\\n')\n",
    "        elev_gain = (stat_block3[0]+stat_block2[2]).strip()\n",
    "        elev_lost = (stat_block3[3]+stat_block2[5]).strip()\n",
    "        stat_block4 = stats.find('div', class_='stat-block ml-1 mt-1').text.strip().split('\\n')\n",
    "        avg_grade = stat_block4[1].strip().replace(\"(\", \"\").replace(\")\", \"\")\n",
    "        max_grade = stat_block4[4].strip().replace(\"(\", \"\").replace(\")\", \"\")\n",
    "\n",
    "        # create dictionary with trail stats and return\n",
    "        trail_stats = {'url': site_url, 'Name': trail_name, 'Difficulty': difficulty, 'Distance': dist, 'Type': trail_type, \n",
    "                       'High Elev': elev_high, 'Low Elev': elev_low, 'Elev Gained': elev_gain, 'Elev Lost': elev_lost, \n",
    "                       'Avg Grade': avg_grade, 'Max Grade': max_grade}\n",
    "        \n",
    "        \n",
    "        df = df.append(trail_stats, ignore_index=True)"
   ]
  },
  {
   "cell_type": "code",
   "execution_count": 4,
   "id": "07ad02cb",
   "metadata": {},
   "outputs": [
    {
     "data": {
      "text/html": [
       "<div>\n",
       "<style scoped>\n",
       "    .dataframe tbody tr th:only-of-type {\n",
       "        vertical-align: middle;\n",
       "    }\n",
       "\n",
       "    .dataframe tbody tr th {\n",
       "        vertical-align: top;\n",
       "    }\n",
       "\n",
       "    .dataframe thead th {\n",
       "        text-align: right;\n",
       "    }\n",
       "</style>\n",
       "<table border=\"1\" class=\"dataframe\">\n",
       "  <thead>\n",
       "    <tr style=\"text-align: right;\">\n",
       "      <th></th>\n",
       "      <th>url</th>\n",
       "      <th>Name</th>\n",
       "      <th>Difficulty</th>\n",
       "      <th>Distance</th>\n",
       "      <th>Type</th>\n",
       "      <th>High Elev</th>\n",
       "      <th>Low Elev</th>\n",
       "      <th>Elev Gained</th>\n",
       "      <th>Elev Lost</th>\n",
       "      <th>Avg Grade</th>\n",
       "      <th>Max Grade</th>\n",
       "    </tr>\n",
       "  </thead>\n",
       "  <tbody>\n",
       "  </tbody>\n",
       "</table>\n",
       "</div>"
      ],
      "text/plain": [
       "Empty DataFrame\n",
       "Columns: [url, Name, Difficulty, Distance, Type, High Elev, Low Elev, Elev Gained, Elev Lost, Avg Grade, Max Grade]\n",
       "Index: []"
      ]
     },
     "execution_count": 4,
     "metadata": {},
     "output_type": "execute_result"
    }
   ],
   "source": [
    "# Display the scraped trail data\n",
    "df"
   ]
  },
  {
   "cell_type": "markdown",
   "id": "f57b1d44",
   "metadata": {},
   "source": [
    "# Export trail data to a CSV file\n",
    "Export the raw trail data to a local csvfile."
   ]
  },
  {
   "cell_type": "code",
   "execution_count": 33,
   "id": "2a205bec",
   "metadata": {},
   "outputs": [],
   "source": [
    "df.to_csv('data/raw_trail_data.csv', index=False)"
   ]
  }
 ],
 "metadata": {
  "kernelspec": {
   "display_name": "Python 3",
   "language": "python",
   "name": "python3"
  },
  "language_info": {
   "codemirror_mode": {
    "name": "ipython",
    "version": 3
   },
   "file_extension": ".py",
   "mimetype": "text/x-python",
   "name": "python",
   "nbconvert_exporter": "python",
   "pygments_lexer": "ipython3",
   "version": "3.8.8"
  }
 },
 "nbformat": 4,
 "nbformat_minor": 5
}
